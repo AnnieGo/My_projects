{
 "cells": [
  {
   "cell_type": "markdown",
   "id": "628d19e2",
   "metadata": {},
   "source": [
    "# Project 05"
   ]
  },
  {
   "cell_type": "markdown",
   "id": "12b654da",
   "metadata": {},
   "source": [
    "## Task 1"
   ]
  },
  {
   "cell_type": "markdown",
   "id": "0f3cc025",
   "metadata": {},
   "source": [
    "1. Установите библиотеку sympy.\n",
    "2. Используя ее функции, напишите свою функцию, которая на вход примет математическую функцию y=f(x) вида x**2 - x + 21, и вернёт производную: 2𝑥−1."
   ]
  },
  {
   "cell_type": "code",
   "execution_count": 1,
   "id": "cbc11a1f",
   "metadata": {},
   "outputs": [],
   "source": [
    "from sympy import *\n",
    "import numpy as np"
   ]
  },
  {
   "cell_type": "code",
   "execution_count": 2,
   "id": "7434d363",
   "metadata": {},
   "outputs": [],
   "source": [
    "def myfunc(y):\n",
    "    \"\"\" функция возвращает частную производную \"\"\"\n",
    "    x = symbols('x')\n",
    "    return diff(y, x)"
   ]
  },
  {
   "cell_type": "code",
   "execution_count": 3,
   "id": "3c8aa26e",
   "metadata": {},
   "outputs": [
    {
     "data": {
      "text/latex": [
       "$\\displaystyle 2 x - 1$"
      ],
      "text/plain": [
       "2*x - 1"
      ]
     },
     "execution_count": 3,
     "metadata": {},
     "output_type": "execute_result"
    }
   ],
   "source": [
    "x = symbols('x')\n",
    "y = x**2 - x + 21\n",
    "myfunc(y)"
   ]
  },
  {
   "cell_type": "markdown",
   "id": "6339ec5f",
   "metadata": {},
   "source": [
    "## Task 2"
   ]
  },
  {
   "cell_type": "markdown",
   "id": "78542f52",
   "metadata": {},
   "source": [
    "В этот раз напишите свою функцию, которая на вход примет математическую функцию p = f(x, y), зависящую от двух переменных вида (x-y)**2, а также ту переменную, по которой нужно посчитать частную производную. Функция должна вернуть частную производную этой переменной: 2𝑥−2𝑦."
   ]
  },
  {
   "cell_type": "code",
   "execution_count": 4,
   "id": "3715f4e5",
   "metadata": {},
   "outputs": [],
   "source": [
    "def myfunc2(p, x, y):\n",
    "    \"\"\" функция возвращает частную производную переменной х \"\"\"\n",
    "    x, y = symbols('x y')\n",
    "    return diff(p, x), diff(p,y)    "
   ]
  },
  {
   "cell_type": "code",
   "execution_count": 5,
   "id": "0c5eaf91",
   "metadata": {},
   "outputs": [
    {
     "data": {
      "text/plain": [
       "(2*x - 2*y, -2*x + 2*y)"
      ]
     },
     "execution_count": 5,
     "metadata": {},
     "output_type": "execute_result"
    }
   ],
   "source": [
    "x, y = symbols('x y')\n",
    "p = (x-y)**2\n",
    "myfunc2(p, x, y)"
   ]
  },
  {
   "cell_type": "markdown",
   "id": "79c4d71c",
   "metadata": {},
   "source": [
    "# Task 3"
   ]
  },
  {
   "cell_type": "markdown",
   "id": "ad43d662",
   "metadata": {},
   "source": [
    "1. Вам надо написать математическую функцию. Представьте, что у вас есть y_true и есть y_pred (предсказанное). Вам надо посчитать квадрат отклонения одного от другого. Причём предсказанное значение получается при помощи функции линейной регрессии: y = wx +b. Дополнительно поделим всё это на n.\n",
    "2. Нужно написать функцию Python, которая примет на вход эту функцию и ту переменную, по которой нам надо посчитать частные производные. Нас будут интересовать w и b. Именно их наилучшие значения мы и будем в дальнейшем искать. Функция должна вернуть производные сразу по обеим этим переменным."
   ]
  },
  {
   "cell_type": "code",
   "execution_count": 6,
   "id": "a525bdcc",
   "metadata": {},
   "outputs": [],
   "source": [
    "#y_true\n",
    "#y_pred = wx +b\n",
    "# мат.функция - квадрат отклонения y_true от y_pred\n",
    "#d = (y - (wx +b))**2/n"
   ]
  },
  {
   "cell_type": "code",
   "execution_count": 7,
   "id": "9f2bdcf8",
   "metadata": {},
   "outputs": [],
   "source": [
    "def myfunc3(d, i):\n",
    "    \"\"\" функция возвращает частные производные по переменным w и b \"\"\"\n",
    "    y, x, w, b, n = symbols('y x w b n')\n",
    "    return diff(d, i)"
   ]
  },
  {
   "cell_type": "code",
   "execution_count": 8,
   "id": "98f0824b",
   "metadata": {},
   "outputs": [
    {
     "data": {
      "text/latex": [
       "$\\displaystyle - \\frac{2 x \\left(- b - w x + y\\right)}{n}$"
      ],
      "text/plain": [
       "-2*x*(-b - w*x + y)/n"
      ]
     },
     "execution_count": 8,
     "metadata": {},
     "output_type": "execute_result"
    }
   ],
   "source": [
    "y, x, w, b, n = symbols('y x w b n')\n",
    "d = (y - (w*x +b))**2/n\n",
    "myfunc3(d, w)"
   ]
  },
  {
   "cell_type": "code",
   "execution_count": 9,
   "id": "20dffe8b",
   "metadata": {},
   "outputs": [
    {
     "data": {
      "text/latex": [
       "$\\displaystyle \\frac{2 b + 2 w x - 2 y}{n}$"
      ],
      "text/plain": [
       "(2*b + 2*w*x - 2*y)/n"
      ]
     },
     "execution_count": 9,
     "metadata": {},
     "output_type": "execute_result"
    }
   ],
   "source": [
    "y, x, w, b, n = symbols('y x w b n')\n",
    "d = (y - (w*x +b))**2/n\n",
    "myfunc3(d, b)"
   ]
  },
  {
   "cell_type": "markdown",
   "id": "d53fee25",
   "metadata": {},
   "source": [
    "вариант-2"
   ]
  },
  {
   "cell_type": "code",
   "execution_count": 10,
   "id": "b256f650",
   "metadata": {},
   "outputs": [],
   "source": [
    "def gradient(d):\n",
    "    return (diff(d, w), diff(d, b))"
   ]
  },
  {
   "cell_type": "code",
   "execution_count": 11,
   "id": "ce192340",
   "metadata": {},
   "outputs": [
    {
     "data": {
      "text/plain": [
       "(-2*x*(-b - w*x + y)/n, (2*b + 2*w*x - 2*y)/n)"
      ]
     },
     "execution_count": 11,
     "metadata": {},
     "output_type": "execute_result"
    }
   ],
   "source": [
    "y, x, w, b, n = symbols('y x w b n')\n",
    "d = (y - (w*x +b))**2/n\n",
    "gradient(d)"
   ]
  },
  {
   "cell_type": "markdown",
   "id": "a1228da8",
   "metadata": {},
   "source": [
    "# Task 4"
   ]
  },
  {
   "cell_type": "markdown",
   "id": "69f51af9",
   "metadata": {},
   "source": [
    "1. В этот раз вам надо написать класс Gradient(), который будет состоять из нескольких методов. Объект при инициализации получает два вектора: X, Y. Далее методы обращаются к ним уже внутри класса.\n",
    "* predict: на вход она получает w, b, на выход она выдаёт прогнозные значения Y_pred;\n",
    "* mse: на вход она получает Y_pred, на выход выдает посчитанное MSE;\n",
    "* update: на вход она получает Y_pred, w, b; на выход выдаёт новые значения w, b, которые обновились благодаря посчитанным градиентам.\n",
    "2. Проверить работу методов, подав на вход класса два вектора X, Y и начальные параметры w, b в требуемые методы.\n"
   ]
  },
  {
   "cell_type": "code",
   "execution_count": 12,
   "id": "ef2c1391",
   "metadata": {},
   "outputs": [],
   "source": [
    "class Gradient():\n",
    "    \"\"\" класс градиент \"\"\"\n",
    "    def __init__(self, X, Y):\n",
    "        \"\"\" инициализация - 2 вектора на вход \"\"\"\n",
    "        self.X = X\n",
    "        self.Y = Y\n",
    "    \n",
    "    def predict(self, w, b):\n",
    "        \"\"\" выдаёт прогнозные значения Y_pred \n",
    "        Функция прогнозирования для алгоритма линейной регрессии представляет собой линейное уравнение, \n",
    "        заданное y = wx + b\"\"\"\n",
    "        #w = 0.1\n",
    "        #b = 0.01\n",
    "        Y_pred = (w*X) + b  # x - независимая переменная, y - зависимая переменная, \n",
    "                            # w - вес, связанный с входной переменной, b - смещение\n",
    "        return Y_pred\n",
    "    \n",
    "    def mse(self, Y, Y_pred):\n",
    "        \"\"\" выдает посчитанное MSE (mean_squared_error, среднеквадратическая ошибка) \"\"\"\n",
    "        mse_cost = np.sum((Y-Y_pred)**2) / len(Y)\n",
    "        return mse_cost\n",
    "    \n",
    "    # Обновление веса и смещения путем вычитания умножения скорости обучения и их соответствующих градиентов. \n",
    "    def update(self, Y_pred, w, b, learning_rate):\n",
    "        \"\"\" выдаёт новые значения w, b, которые обновились благодаря посчитанным градиентам \"\"\"\n",
    "       # считаем производные, используя формулы, полученные в Task 3\n",
    "        w_derivative = -(2/n) * sum(X * (Y-Y_pred))\n",
    "        b_derivative = -(2/n) * sum(Y-Y_pred)\n",
    "         \n",
    "        # обновляем вес и смещение - w и b\n",
    "        w = w - (learning_rate * w_derivative)\n",
    "        b = b - (learning_rate * b_derivative)\n",
    "        return w, b"
   ]
  },
  {
   "cell_type": "code",
   "execution_count": 13,
   "id": "c4b183ea",
   "metadata": {},
   "outputs": [],
   "source": [
    "lst = [1.5,2.2,3.45,4.4,5.67] \n",
    "X = np.array(lst)\n",
    "Y = np.array(lst)\n",
    "w = 1.5\n",
    "b = 0.5\n",
    "n = float(len(X))\n",
    "learning_rate = 0.06"
   ]
  },
  {
   "cell_type": "code",
   "execution_count": 14,
   "id": "7cecb28a",
   "metadata": {},
   "outputs": [],
   "source": [
    "data = Gradient(X,Y)\n",
    "Y_pred = data.predict(w, b)\n",
    "data_mse = data.mse(Y, Y_pred)"
   ]
  },
  {
   "cell_type": "code",
   "execution_count": 15,
   "id": "60f6b14d",
   "metadata": {},
   "outputs": [
    {
     "name": "stdout",
     "output_type": "stream",
     "text": [
      "5.497069999999999\n"
     ]
    }
   ],
   "source": [
    "print(data_mse) # если в в исходных измерениях мы ошиблись на 1, то метрика покажет 1, 2-4, 3-9 и так далее. \n",
    "            # Чем меньше MSE, тем точнее наше предсказание. Оптимум достигается в точке 0, то есть мы идеально предсказываем."
   ]
  },
  {
   "cell_type": "code",
   "execution_count": 16,
   "id": "2a814202",
   "metadata": {},
   "outputs": [
    {
     "data": {
      "text/plain": [
       "(0.44734319999999994, 0.23336)"
      ]
     },
     "execution_count": 16,
     "metadata": {},
     "output_type": "execute_result"
    }
   ],
   "source": [
    "data.update(Y_pred, w, b, learning_rate)"
   ]
  },
  {
   "cell_type": "markdown",
   "id": "9936b866",
   "metadata": {},
   "source": [
    "# Task 5"
   ]
  },
  {
   "cell_type": "markdown",
   "id": "5bb2efd0",
   "metadata": {},
   "source": [
    "Улучшите ваш код таким образом, чтобы появился метод optimize. Он должен итеративным образом пройти какое-то количество раз обновление значений w, b, придя к оптимальному значению. Критерии останова:"
   ]
  },
  {
   "cell_type": "markdown",
   "id": "b8c90673",
   "metadata": {},
   "source": [
    "- если было превышено количество заранее заданных итераций `num_iterations`;\n",
    "\n",
    "- если новая итерация выдала разницу между текущей ошибкой и ошибкой прошлой итерации значение, меньшее, чем `stopping_threshold`;\n",
    "\n",
    "метод должен вернуть финальные значения `w`, `b`, и `mse`."
   ]
  },
  {
   "cell_type": "code",
   "execution_count": 17,
   "id": "7713594f",
   "metadata": {},
   "outputs": [],
   "source": [
    "class Gradient_opt(Gradient):\n",
    "    \"\"\" \"\"\"\n",
    "    def __init__(self, X, Y):  \n",
    "        \"\"\" \"\"\"\n",
    "        super().__init__(X, Y)\n",
    "\n",
    "    def optimize(sels, X, Y, num_iterations, learning_rate, stopping_threshold):\n",
    "        \"\"\" итеративным образом пройти какое-то количество раз обновление значений w, b, придя к оптимальному значению \"\"\"\n",
    "        #Инициализация w, b, learning rate и iterations\n",
    "        w = 1.5\n",
    "        b = 0.5\n",
    "        n = float(len(X))\n",
    "        \n",
    "        costs = []\n",
    "        weights = []\n",
    "        previous_mse_cost = None\n",
    "        \n",
    "        # Поиск оптимальных параметров\n",
    "        for i in range(num_iterations): #критерий останова: если было превышено количество заданных итераций num_iterations\n",
    "            \n",
    "            # строим прогноз\n",
    "            Y_pred = (w * X) + b\n",
    "            \n",
    "            # Считаем среднеквадратичную ошибку\n",
    "            current_mse_cost = np.sum((Y-Y_pred)**2) / len(Y)\n",
    "\n",
    "            # Критерий останова: если новая итерация выдала разницу между текущей ошибкой и ошибкой прошлой итерации значение, \n",
    "            # меньшее, чем stopping_threshold\n",
    "            if previous_mse_cost and abs(previous_mse_cost-current_mse_cost)<=stopping_threshold:\n",
    "                break\n",
    "            \n",
    "            previous_mse_cost = current_mse_cost\n",
    "\n",
    "            costs.append(current_mse_cost)\n",
    "            weights.append(w)\n",
    "            \n",
    "            data.update(Y_pred, w, b, learning_rate)\n",
    "            # Считаем градиент (вектор из частных производных w и b)\n",
    "            w_derivative = -(2/n) * sum(X * (Y-Y_pred))\n",
    "            b_derivative = -(2/n) * sum(Y-Y_pred)\n",
    "            \n",
    "            # обновляем вес и смещение - w и b\n",
    "            w = w - (learning_rate * w_derivative)\n",
    "            b = b - (learning_rate * b_derivative)\n",
    "                    \n",
    "            # Печатаем параметры каждой итерации\n",
    "            print(f\"Iteration # {i+1}: mse = {current_mse_cost:.4}, w = {w:.4}, b = {b:.4}\")\n",
    "        \n",
    "        return round(current_mse_cost,4), round(w,4), round(b,4)"
   ]
  },
  {
   "cell_type": "code",
   "execution_count": 20,
   "id": "4b8e73c8",
   "metadata": {},
   "outputs": [],
   "source": [
    "lst = [1,2,3,4,5] \n",
    "X = np.array(lst)\n",
    "Y = np.array(lst)\n",
    "w = 3.5\n",
    "b = 1.5\n",
    "num_iterations = 20\n",
    "learning_rate = 0.07\n",
    "stopping_threshold = 0.000001"
   ]
  },
  {
   "cell_type": "code",
   "execution_count": 21,
   "id": "03807ace",
   "metadata": {},
   "outputs": [
    {
     "name": "stdout",
     "output_type": "stream",
     "text": [
      "Iteration # 1: mse = 4.5, w = 0.52, b = 0.22\n",
      "Iteration # 2: mse = 1.949, w = 1.167, b = 0.3908\n",
      "Iteration # 3: mse = 0.8499, w = 0.7458, b = 0.266\n",
      "Iteration # 4: mse = 0.3758, w = 1.026, b = 0.3356\n",
      "Iteration # 5: mse = 0.1712, w = 0.8453, b = 0.2779\n",
      "Iteration # 6: mse = 0.08259, w = 0.9669, b = 0.3039\n",
      "Iteration # 7: mse = 0.04402, w = 0.8902, b = 0.2753\n",
      "Iteration # 8: mse = 0.027, w = 0.9436, b = 0.2829\n",
      "Iteration # 9: mse = 0.0193, w = 0.9116, b = 0.2669\n",
      "Iteration # 10: mse = 0.01562, w = 0.9356, b = 0.2667\n",
      "Iteration # 11: mse = 0.01369, w = 0.9228, b = 0.2564\n",
      "Iteration # 12: mse = 0.01254, w = 0.934, b = 0.2529\n",
      "Iteration # 13: mse = 0.01173, w = 0.9294, b = 0.2452\n",
      "Iteration # 14: mse = 0.01109, w = 0.9351, b = 0.2405\n",
      "Iteration # 15: mse = 0.01053, w = 0.934, b = 0.2341\n",
      "Iteration # 16: mse = 0.01002, w = 0.9373, b = 0.2291\n",
      "Iteration # 17: mse = 0.00954, w = 0.9376, b = 0.2233\n",
      "Iteration # 18: mse = 0.009091, w = 0.9399, b = 0.2182\n",
      "Iteration # 19: mse = 0.008664, w = 0.9408, b = 0.2129\n",
      "Iteration # 20: mse = 0.008258, w = 0.9425, b = 0.208\n"
     ]
    },
    {
     "data": {
      "text/plain": [
       "(0.0083, 0.9425, 0.208)"
      ]
     },
     "execution_count": 21,
     "metadata": {},
     "output_type": "execute_result"
    }
   ],
   "source": [
    "data_opt = Gradient_opt(X,Y)\n",
    "Y_pred = data_opt.predict(w, b)\n",
    "data_opt.mse(Y, Y_pred)\n",
    "data_opt.optimize(X, Y, num_iterations, learning_rate, stopping_threshold)"
   ]
  },
  {
   "cell_type": "code",
   "execution_count": null,
   "id": "a10bb3e5",
   "metadata": {},
   "outputs": [],
   "source": []
  }
 ],
 "metadata": {
  "kernelspec": {
   "display_name": "Python 3 (ipykernel)",
   "language": "python",
   "name": "python3"
  },
  "language_info": {
   "codemirror_mode": {
    "name": "ipython",
    "version": 3
   },
   "file_extension": ".py",
   "mimetype": "text/x-python",
   "name": "python",
   "nbconvert_exporter": "python",
   "pygments_lexer": "ipython3",
   "version": "3.9.7"
  }
 },
 "nbformat": 4,
 "nbformat_minor": 5
}
